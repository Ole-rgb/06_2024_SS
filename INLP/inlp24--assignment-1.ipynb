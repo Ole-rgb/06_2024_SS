{
 "cells": [
  {
   "cell_type": "markdown",
   "id": "8a8dac86",
   "metadata": {
    "deletable": false,
    "editable": false,
    "nbgrader": {
     "cell_type": "markdown",
     "checksum": "6ae7b473ecb216eae3eb94ac54434b1d",
     "grade": false,
     "grade_id": "cell-ec4ec2c7b5c2f995",
     "locked": true,
     "schema_version": 3,
     "solution": false,
     "task": false
    },
    "slideshow": {
     "slide_type": "-"
    }
   },
   "source": [
    "## Assignment 1 - Basics of Linguistics\n",
    "_Solutions have to be submitted by Monday, April 29, 23:59 (UTC+2)._\n",
    "\n",
    "---"
   ]
  },
  {
   "cell_type": "markdown",
   "id": "4966256c",
   "metadata": {
    "deletable": false,
    "editable": false,
    "nbgrader": {
     "cell_type": "markdown",
     "checksum": "d30b523564c3486c0e486364f6aa2129",
     "grade": false,
     "grade_id": "cell-fcab851909e148e7",
     "locked": true,
     "schema_version": 3,
     "solution": false,
     "task": false
    }
   },
   "source": [
    "### Exercise 1: Linguistic text units (4 points)"
   ]
  },
  {
   "cell_type": "markdown",
   "id": "7bdd6ee9",
   "metadata": {
    "deletable": false,
    "editable": false,
    "nbgrader": {
     "cell_type": "markdown",
     "checksum": "3bd8f1d7ad7709ba3ff0e64856a5107a",
     "grade": false,
     "grade_id": "cell-a4698e59d3caaa8f",
     "locked": true,
     "schema_version": 3,
     "solution": false,
     "task": false
    }
   },
   "source": [
    "**Given the following text:**\n",
    "\n",
    "> Natural language processing (NLP) is an interdisciplinary subfield of computer science and information retrieval. It is primarily concerned with giving computers the ability to support and manipulate human language. It involves processing natural language datasets, such as text corpora or speech corpora, using either rule-based or probabilistic (i.e. statistical and, most recently, neural network-based) machine learning approaches. Already in 1940, Alan Turing published an article titled \"Computing Machinery and Intelligence\" which proposed what is now called the Turing test as a criterion of intelligence."
   ]
  },
  {
   "cell_type": "markdown",
   "id": "c09e614f",
   "metadata": {
    "deletable": false,
    "editable": false,
    "nbgrader": {
     "cell_type": "markdown",
     "checksum": "43c98b9fdd1ad81bb1a1e3d70738272a",
     "grade": false,
     "grade_id": "cell-6a97fc7327ed9d4d",
     "locked": true,
     "points": 0,
     "schema_version": 3,
     "solution": false,
     "task": true
    }
   },
   "source": [
    "**(a) Extract two words with at least two syllables each: one whose lemma is different from its stem, and one where lemma and stem are the same. Also name the lemma and stem in each case.**"
   ]
  },
  {
   "cell_type": "markdown",
   "id": "28c019ac",
   "metadata": {
    "deletable": false,
    "nbgrader": {
     "cell_type": "markdown",
     "checksum": "492fb3dd14bcde655a7a487c60b925a5",
     "grade": true,
     "grade_id": "cell-c32693da5a83b69e",
     "locked": false,
     "points": 1,
     "schema_version": 3,
     "solution": true,
     "task": false
    }
   },
   "source": [
    "processing: process lemma and stem are different the process and processing have different meanings\n",
    "\n",
    "giving: give lemma and stem are the same"
   ]
  },
  {
   "cell_type": "markdown",
   "id": "81c75f6b",
   "metadata": {
    "deletable": false,
    "editable": false,
    "nbgrader": {
     "cell_type": "markdown",
     "checksum": "26f99e92f2bc43740c0c98db7f269c4f",
     "grade": false,
     "grade_id": "cell-f6550afc43b262c7",
     "locked": true,
     "points": 0,
     "schema_version": 3,
     "solution": false,
     "task": true
    }
   },
   "source": [
    "**(b) Extract one subordinate clause and one main clause.**"
   ]
  },
  {
   "cell_type": "markdown",
   "id": "58848dda",
   "metadata": {
    "deletable": false,
    "nbgrader": {
     "cell_type": "markdown",
     "checksum": "13a11c400085d70855dff8ab7547bb9a",
     "grade": true,
     "grade_id": "cell-d8f8546b3f4a28c9",
     "locked": false,
     "points": 1,
     "schema_version": 3,
     "solution": true,
     "task": false
    }
   },
   "source": [
    "main clause: Alan Turing published an article titled \"Computing Machinery and Intelligence\" \n",
    "\n",
    "subordinate clause: which proposed what is now called the Turing test as a criterion of intelligence\n"
   ]
  },
  {
   "cell_type": "markdown",
   "id": "1a3029b0",
   "metadata": {
    "deletable": false,
    "editable": false,
    "nbgrader": {
     "cell_type": "markdown",
     "checksum": "b41d1467cdf0968fb567455368aa42a7",
     "grade": false,
     "grade_id": "cell-bf0a7908b321161f",
     "locked": true,
     "points": 0,
     "schema_version": 3,
     "solution": false,
     "task": true
    }
   },
   "source": [
    "**(c) Is the word \"Computer\" an inflection or derivation of the word \"Compute\"? Shortly explain what the difference between derivation and inflection is.**"
   ]
  },
  {
   "cell_type": "markdown",
   "id": "6b8f825c",
   "metadata": {
    "deletable": false,
    "nbgrader": {
     "cell_type": "markdown",
     "checksum": "421b3b88c31f66c46ea4522ebcc2f747",
     "grade": true,
     "grade_id": "cell-1fa2359345367c60",
     "locked": false,
     "points": 1,
     "schema_version": 3,
     "solution": true,
     "task": false
    }
   },
   "source": [
    "Computer is derivation from the word Compute, eventhough the Computer computes something it is a different thing with different use cases. An derivation of a word produces a new word with different meaning, a inflection produces grammatical variants with same meanings\n"
   ]
  },
  {
   "cell_type": "markdown",
   "id": "eaf40579",
   "metadata": {
    "deletable": false,
    "editable": false,
    "nbgrader": {
     "cell_type": "markdown",
     "checksum": "f72b97721794844122213938f0e55777",
     "grade": false,
     "grade_id": "cell-f0c2eb2964bd5de5",
     "locked": true,
     "points": 0,
     "schema_version": 3,
     "solution": false,
     "task": true
    }
   },
   "source": [
    "**(d) Extract an entity from the text and name its type.**"
   ]
  },
  {
   "cell_type": "markdown",
   "id": "129d7fb5",
   "metadata": {
    "deletable": false,
    "nbgrader": {
     "cell_type": "markdown",
     "checksum": "5fd77ac9e44387e8f5c2d3c1b2e6d7fd",
     "grade": true,
     "grade_id": "cell-5adfb137f1ba04a6",
     "locked": false,
     "points": 1,
     "schema_version": 3,
     "solution": true,
     "task": false
    }
   },
   "source": [
    "Alan Turing : Named Entity (Person)\n"
   ]
  },
  {
   "cell_type": "markdown",
   "id": "e458744d",
   "metadata": {
    "deletable": false,
    "editable": false,
    "nbgrader": {
     "cell_type": "markdown",
     "checksum": "0144bb6770d1c4d8adf3840fdb03beeb",
     "grade": false,
     "grade_id": "cell-c75c6ab5f54a920d",
     "locked": true,
     "schema_version": 3,
     "solution": false,
     "task": false
    }
   },
   "source": [
    "### Exercise 2: Parts of Speech (1 points)"
   ]
  },
  {
   "cell_type": "markdown",
   "id": "6973fb91",
   "metadata": {
    "deletable": false,
    "editable": false,
    "nbgrader": {
     "cell_type": "markdown",
     "checksum": "eb040ebedf105b6b4769949173408e74",
     "grade": false,
     "grade_id": "cell-be7303ea936a60f2",
     "locked": true,
     "schema_version": 3,
     "solution": false,
     "task": false
    }
   },
   "source": [
    "**Part of speech (POS) tagging is a text analysis method that assigns a tag to each word, defining its fine-grained word class in the sentence. On an abstract level, these classes include nouns, verbs, and similar.**"
   ]
  },
  {
   "cell_type": "markdown",
   "id": "75743429",
   "metadata": {
    "deletable": false,
    "editable": false,
    "nbgrader": {
     "cell_type": "markdown",
     "checksum": "7aec8790c6f5e3feb43f4aafa34a508c",
     "grade": false,
     "grade_id": "cell-e192c74bb66bbed0",
     "locked": true,
     "points": 0,
     "schema_version": 3,
     "solution": false,
     "task": true
    }
   },
   "source": [
    "**(a) Given the following sentence:**\n",
    "\n",
    "> Man must hold fast by the belief that the incomprehensible is comprehensible; otherwise he would not search.\n",
    "\n",
    "**Name the abstract word class of each word in this sentence (use only the classes mentioned in the lecture).**"
   ]
  },
  {
   "cell_type": "markdown",
   "id": "bb7f8529",
   "metadata": {
    "deletable": false,
    "nbgrader": {
     "cell_type": "markdown",
     "checksum": "ac7d2cb41b770ae71c3798e38096217a",
     "grade": true,
     "grade_id": "cell-4bdac7937a97a20d",
     "locked": false,
     "points": 0.5,
     "schema_version": 3,
     "solution": true,
     "task": false
    }
   },
   "source": [
    "Man(Noun) must(Verb) hold(Verb) fast(Adverb) by(Preposition) the(Determiner) belief(Noun) that(Determiner) the(Determiner) incomprehensible(Noun) is(Verb) comprehensible(Noun); otherwise(Conjunction) he(Pronoun) would(Verb) not(Negation) search(Verb)."
   ]
  },
  {
   "cell_type": "markdown",
   "id": "bba92a52",
   "metadata": {
    "deletable": false,
    "editable": false,
    "nbgrader": {
     "cell_type": "markdown",
     "checksum": "77410e0e930ab011783b10065f142a73",
     "grade": false,
     "grade_id": "cell-21a6ce79336aa2e3",
     "locked": true,
     "points": 0,
     "schema_version": 3,
     "solution": false,
     "task": true
    }
   },
   "source": [
    "**(b) Choose an example word from the sentence that has more than one part-of-speech. Write a short sentence in which the word has a different part-of-speech. Name the new and the old part-of-speech.**"
   ]
  },
  {
   "cell_type": "markdown",
   "id": "6f184f83",
   "metadata": {
    "deletable": false,
    "nbgrader": {
     "cell_type": "markdown",
     "checksum": "2548592a861700dae14e26e1fa4517c6",
     "grade": true,
     "grade_id": "cell-bc1acea10274c898",
     "locked": false,
     "points": 0.5,
     "schema_version": 3,
     "solution": true,
     "task": false
    }
   },
   "source": [
    "fast(Adverb or Adjective)"
   ]
  },
  {
   "cell_type": "markdown",
   "id": "4069643c",
   "metadata": {
    "deletable": false,
    "nbgrader": {
     "cell_type": "markdown",
     "checksum": "be20af9f418d929ce044835e1ab73285",
     "grade": true,
     "grade_id": "cell-f8839643c39bb04d",
     "locked": false,
     "points": 0,
     "schema_version": 3,
     "solution": true,
     "task": false
    }
   },
   "source": [
    "It is a fast car (Adjective). The car is going fast (Adverb)."
   ]
  },
  {
   "cell_type": "markdown",
   "id": "be9f248e",
   "metadata": {
    "deletable": false,
    "editable": false,
    "nbgrader": {
     "cell_type": "markdown",
     "checksum": "a807a2d64fa0f64a1bf1f79b1dc199df",
     "grade": false,
     "grade_id": "cell-0ab7e3952b93dec0",
     "locked": true,
     "points": 0,
     "schema_version": 3,
     "solution": false,
     "task": true
    }
   },
   "source": [
    "**(a) One of the most fundamental challenges of processing natural language text is ambiguity. For each of the\n",
    "following sentences, write down two different interpretations of the meaning of the sentence. In each case,\n",
    "explain the underlying semantic ambiguity in one or two sentences:**\n",
    "\n",
    "1. **She ran to her dad with open arms.**\n",
    "2. **He gave his money to his brother when he won the championship.**"
   ]
  },
  {
   "cell_type": "markdown",
   "id": "5972e3ee",
   "metadata": {
    "deletable": false,
    "nbgrader": {
     "cell_type": "markdown",
     "checksum": "2c58b9c915eeeccd02e569367e672fb3",
     "grade": true,
     "grade_id": "cell-489b4bab1926d347",
     "locked": false,
     "points": 0.5,
     "schema_version": 3,
     "solution": true,
     "task": false
    }
   },
   "source": [
    "1. She ran to her dad with her own arms being open. She ran to her dad who has his arms open.\n",
    "\n",
    "2. He(1) gave his money to his brother(2) when he(1), who gives the money, won the championship. He(1) gave his money to his brother when the brother won the championship."
   ]
  },
  {
   "cell_type": "markdown",
   "id": "98e786a5",
   "metadata": {
    "deletable": false,
    "editable": false,
    "nbgrader": {
     "cell_type": "markdown",
     "checksum": "584e27a387f2b179e51c75dcbba6df30",
     "grade": false,
     "grade_id": "cell-39bbda60a0d1fadc",
     "locked": true,
     "points": 0,
     "schema_version": 3,
     "solution": false,
     "task": true
    }
   },
   "source": [
    "**(b) Explain in one or two sentences the difference between syntactic and semantic ambiguity?**"
   ]
  },
  {
   "cell_type": "markdown",
   "id": "d204b0b5",
   "metadata": {
    "deletable": false,
    "nbgrader": {
     "cell_type": "markdown",
     "checksum": "32affc00eed99628ef1bf07e7b7cfbbd",
     "grade": true,
     "grade_id": "cell-61e9801f3d6f9735",
     "locked": false,
     "points": 0.5,
     "schema_version": 3,
     "solution": true,
     "task": false
    }
   },
   "source": [
    "Syntactic ambiguity is when the sentence has different meaning depending on the structure of it and the interpretation of the words with different relations (as seen in the exercise before). Semantic ambiguity is when a word or compistion of words have multiple meanings depending on the context of the sentence(fan/music fan/air conditioner/)."
   ]
  },
  {
   "cell_type": "markdown",
   "id": "dc3e90c0",
   "metadata": {
    "deletable": false,
    "editable": false,
    "nbgrader": {
     "cell_type": "markdown",
     "checksum": "9adfe1f64be68e07937178cb356cff41",
     "grade": false,
     "grade_id": "cell-31f2b276b5561b79",
     "locked": true,
     "schema_version": 3,
     "solution": false,
     "task": false
    },
    "slideshow": {
     "slide_type": "-"
    }
   },
   "source": [
    "### Exercise 4: Text analysis methods (1 point)"
   ]
  },
  {
   "cell_type": "markdown",
   "id": "b6b8a9a0",
   "metadata": {
    "deletable": false,
    "editable": false,
    "nbgrader": {
     "cell_type": "markdown",
     "checksum": "13fdbc427f53bf617fe0a750c8bf869e",
     "grade": false,
     "grade_id": "cell-b71153d7c59d53e2",
     "locked": true,
     "schema_version": 3,
     "solution": false,
     "task": false
    },
    "slideshow": {
     "slide_type": "-"
    }
   },
   "source": [
    "**Given the following text:**\n",
    "\n",
    "> The Bose Ultra Open Earbuds are available now, priced at 299\\$. That’s quite the price tag: they cost the same as the Bose Quietcomfort Ultra earbuds and more than the AirPods Pro 2, and it’s clear that Bose considers the Ultra Open Earbuds a premium product just like the aforementioned buds. \n",
    "In terms of sound quality and build, Bose is right on the money – but given the slightly unsteady feel of the fit, the price did nothing to soothe my nerves while I was out jogging with them. I was terrified one of my expensive earbuds would drop off my ear and down a drain, although my fear obviously never came to pass.\n",
    "You're also locked into the open-ear form factor, whereas at a similar price point, the AirPods Pro 2 provides the option of transparency and noise-cancelling. Techradar 2024\n"
   ]
  },
  {
   "cell_type": "markdown",
   "id": "9c824754",
   "metadata": {
    "deletable": false,
    "editable": false,
    "nbgrader": {
     "cell_type": "markdown",
     "checksum": "4f49708adcc73acfd4c6cfc32882fe73",
     "grade": false,
     "grade_id": "cell-f3b468d344ed6579",
     "locked": true,
     "points": 0,
     "schema_version": 3,
     "solution": false,
     "task": true
    }
   },
   "source": [
    "**(a) Select from the following text analysis method, two that could help in finding an answer to the following question: Are the Bose Ultra Open Earbuds better than the AirPods Pro 2? Multiple methods can be selected; shortly explain your answer:**\n",
    "\n",
    "1. **Sentiment analysis**\n",
    "2. **Entity relation detection**\n",
    "3. **Named entity recognition**\n",
    "4. **Part of speech tagging**\n",
    "5. **Topic classification**"
   ]
  },
  {
   "cell_type": "markdown",
   "id": "12b7dc5e",
   "metadata": {
    "deletable": false,
    "nbgrader": {
     "cell_type": "markdown",
     "checksum": "3ac28fdef27cd89a63837170b7cf07e5",
     "grade": true,
     "grade_id": "cell-62774737e55115f6",
     "locked": false,
     "points": 0.5,
     "schema_version": 3,
     "solution": true,
     "task": false
    }
   },
   "source": [
    "Entity realtion detection: Bose Ultra Open Earbuds cost more than the AirPods Pro 2 Topic classification: Open Ear form and the AirPods Pro 2 provide the option of transparency and noise-cancelling"
   ]
  },
  {
   "cell_type": "markdown",
   "id": "77eb5d95",
   "metadata": {
    "deletable": false,
    "editable": false,
    "nbgrader": {
     "cell_type": "markdown",
     "checksum": "dca48b4193560dc4ac013620a0e33b0f",
     "grade": false,
     "grade_id": "cell-3c2ad8df635d96e0",
     "locked": true,
     "points": 0,
     "schema_version": 3,
     "solution": false,
     "task": true
    }
   },
   "source": [
    "**(b) Name two other types of information entities that could be extracted from the previous text.**"
   ]
  },
  {
   "cell_type": "markdown",
   "id": "64ddb7d8",
   "metadata": {
    "deletable": false,
    "nbgrader": {
     "cell_type": "markdown",
     "checksum": "4b70e3570d23873fb497948ac8a1990c",
     "grade": true,
     "grade_id": "cell-0897a2e2bede1b96",
     "locked": false,
     "points": 0.5,
     "schema_version": 3,
     "solution": true,
     "task": false
    }
   },
   "source": [
    "YOUR ANSWER HERE"
   ]
  },
  {
   "cell_type": "markdown",
   "id": "01c24d8f",
   "metadata": {
    "deletable": false,
    "editable": false,
    "nbgrader": {
     "cell_type": "markdown",
     "checksum": "27853ad1e64913cc6bfdb4de7c78af5b",
     "grade": false,
     "grade_id": "cell-6eb3032790196662",
     "locked": true,
     "schema_version": 3,
     "solution": false,
     "task": false
    }
   },
   "source": [
    "### Exercise 5: Text-only NLP (1 point)"
   ]
  },
  {
   "cell_type": "markdown",
   "id": "98f60e86",
   "metadata": {
    "deletable": false,
    "editable": false,
    "nbgrader": {
     "cell_type": "markdown",
     "checksum": "be79666ec617238e323e98bbf63bad17",
     "grade": false,
     "grade_id": "cell-01231d0c77b653cc",
     "locked": true,
     "points": 0,
     "schema_version": 3,
     "solution": false,
     "task": true
    }
   },
   "source": [
    "**Sentiment analysis is the task of predicting the sentiment or mood that a piece of text conveys. A sentiment can, for example, be a binary value of \"positive\" vs. \"negative\" or also include \"neutral\" as a third class.**\n",
    "\n",
    "**While focusing exclusively on text makes such an analysis less complex, it also ignores other information, that could be of help to solve the tasks.**\n",
    "\n",
    "**Consider the problem of predicting the sentiment of a video. Which information, other than the tone of voice (which was presented in the lecture) is lost in text-only approaches? Name an example and shortly explain your answer and example.**"
   ]
  },
  {
   "cell_type": "markdown",
   "id": "f7817b4c",
   "metadata": {
    "deletable": false,
    "nbgrader": {
     "cell_type": "markdown",
     "checksum": "b1a02b826c5e5ddc07230f2809df95d7",
     "grade": true,
     "grade_id": "cell-d0b02003fb6ab3b0",
     "locked": false,
     "points": 1,
     "schema_version": 3,
     "solution": true,
     "task": false
    }
   },
   "source": [
    "Gestures and facial expressions are completely lost in text-only appraches. Both are important for humans to analyze emotion and sentiment.\n"
   ]
  },
  {
   "cell_type": "markdown",
   "id": "c94aee1a",
   "metadata": {
    "deletable": false,
    "editable": false,
    "nbgrader": {
     "cell_type": "markdown",
     "checksum": "b7acc10bb53055c84f9d2c0d6d147373",
     "grade": false,
     "grade_id": "cell-17d83c1021c38d95",
     "locked": true,
     "schema_version": 3,
     "solution": false,
     "task": false
    }
   },
   "source": [
    "### Exercise 6: Coreference and Coherence (2 points)"
   ]
  },
  {
   "cell_type": "markdown",
   "id": "6e77d36c",
   "metadata": {
    "deletable": false,
    "editable": false,
    "nbgrader": {
     "cell_type": "markdown",
     "checksum": "dbdebc44c553950b6905ada997f06d94",
     "grade": false,
     "grade_id": "cell-c1ebd7787a62fd93",
     "locked": true,
     "schema_version": 3,
     "solution": false,
     "task": false
    }
   },
   "source": [
    "**Consider the following example:**\n",
    "\n",
    "> The mechanic quickly repaired the customer's car. She wasn't happy with the result."
   ]
  },
  {
   "cell_type": "markdown",
   "id": "12db3734",
   "metadata": {
    "deletable": false,
    "editable": false,
    "nbgrader": {
     "cell_type": "markdown",
     "checksum": "4fea865c5637beee5a5772366328c9b0",
     "grade": false,
     "grade_id": "cell-17e9ce8b929b45b9",
     "locked": true,
     "points": 0,
     "schema_version": 3,
     "solution": false,
     "task": true
    }
   },
   "source": [
    "**(a) Using the above example as input to an automatic coreference resolution system, what problems do you anticipate? Shortly explain your answer.**"
   ]
  },
  {
   "cell_type": "markdown",
   "id": "5100998f",
   "metadata": {
    "deletable": false,
    "nbgrader": {
     "cell_type": "markdown",
     "checksum": "d969759055b788ec3c7455b269e5e45c",
     "grade": true,
     "grade_id": "cell-bb9c40bc91ea9530",
     "locked": false,
     "points": 1,
     "schema_version": 3,
     "solution": true,
     "task": false
    }
   },
   "source": [
    "The mechanic could be the one who is not happy with the result. At the same time the customer could be the one who is unhappy.\n"
   ]
  },
  {
   "cell_type": "markdown",
   "id": "bf5bbf29",
   "metadata": {
    "deletable": false,
    "editable": false,
    "nbgrader": {
     "cell_type": "markdown",
     "checksum": "e18190703cabf5b95fa24b490d555955",
     "grade": false,
     "grade_id": "cell-0eddcfbe212c467c",
     "locked": true,
     "points": 0,
     "schema_version": 3,
     "solution": false,
     "task": true
    }
   },
   "source": [
    "**(b) What additional information could help an automatic coreference resolution system to alleviate the problems? Shortly explain your answer.**"
   ]
  },
  {
   "cell_type": "markdown",
   "id": "e6644bb0",
   "metadata": {
    "deletable": false,
    "nbgrader": {
     "cell_type": "markdown",
     "checksum": "e4d5330057bd7b39d1ac91cf467650be",
     "grade": true,
     "grade_id": "cell-e86287c9bf33e4fc",
     "locked": false,
     "points": 0.5,
     "schema_version": 3,
     "solution": true,
     "task": false
    }
   },
   "source": [
    "YOUR ANSWER HERE"
   ]
  },
  {
   "cell_type": "markdown",
   "id": "ffe0f447",
   "metadata": {
    "deletable": false,
    "editable": false,
    "nbgrader": {
     "cell_type": "markdown",
     "checksum": "ff1a418330fd1cd09a6bc250f458f411",
     "grade": false,
     "grade_id": "cell-e099793fed554d95",
     "locked": true,
     "points": 0,
     "schema_version": 3,
     "solution": false,
     "task": true
    }
   },
   "source": [
    "**(c) Give an example of a coherent follow-up of the example sentences that would help to resolve the problem.**"
   ]
  },
  {
   "cell_type": "markdown",
   "id": "60b6cb2f",
   "metadata": {
    "deletable": false,
    "nbgrader": {
     "cell_type": "markdown",
     "checksum": "66468b5846557a21e3ea498253e3bde7",
     "grade": true,
     "grade_id": "cell-0ec6a2a727ac5535",
     "locked": false,
     "points": 0.5,
     "schema_version": 3,
     "solution": true,
     "task": false
    }
   },
   "source": [
    "YOUR ANSWER HERE"
   ]
  },
  {
   "cell_type": "markdown",
   "id": "1aac85a7",
   "metadata": {
    "deletable": false,
    "editable": false,
    "nbgrader": {
     "cell_type": "markdown",
     "checksum": "d7556a4a83fb2df8cb98ecdea5a240ad",
     "grade": false,
     "grade_id": "cell-4026eadb8460b85c",
     "locked": true,
     "schema_version": 3,
     "solution": false,
     "task": false
    }
   },
   "source": [
    "---"
   ]
  },
  {
   "cell_type": "markdown",
   "id": "6aa67e78",
   "metadata": {
    "deletable": false,
    "editable": false,
    "nbgrader": {
     "cell_type": "markdown",
     "checksum": "cfd1c9db206125c018341033de2f913a",
     "grade": false,
     "grade_id": "cell-08cb38e08be5b8a1",
     "locked": true,
     "schema_version": 3,
     "solution": false,
     "task": false
    }
   },
   "source": [
    "### Exercise 7: Programming task 1 (5 points)"
   ]
  },
  {
   "cell_type": "markdown",
   "id": "a2115e6d",
   "metadata": {
    "deletable": false,
    "editable": false,
    "nbgrader": {
     "cell_type": "markdown",
     "checksum": "f9e518d619c5ca535acf9e87799f7619",
     "grade": false,
     "grade_id": "cell-ad6053c157a6fbc7",
     "locked": true,
     "schema_version": 3,
     "solution": false,
     "task": false
    }
   },
   "source": [
    "**In this task, you shall write functions to compute the amount of alphanumeric characters in a given corpus. To do so, implement the following:**\n",
    "\n",
    "1. **Write a function `read_brown_corpus()` that reads the Brown Corpus from file. The Brown Corpus is contains multiple documents, and each document is a separate plain text file. The directory containing all files is accessible from the same directory as this notebook and is named \"brown-corpus\". Note the additional information in the pre-written function below.**\n",
    "2. **Write a function `alphanum_char_freqs()` that counts the occurrences of alphanumeric characters in the whole corpus. The counting should be case-insensitive. The function should return a dictionary with the characters as keys and the respective character frequencies as values.**\n",
    "3. **Implement a function `plot_alphanum_freqs()` that uses the two functions above to first count the occurrences of each alphanumeric character, and then visualizes them sorted by frequency in a histogram.**\n",
    "\n",
    "\n",
    "_Note: You must not use any additional libraries to solve this task. You are free to use the functions that are already imported._"
   ]
  },
  {
   "cell_type": "code",
   "execution_count": null,
   "id": "b50fcebd",
   "metadata": {
    "deletable": false,
    "nbgrader": {
     "cell_type": "code",
     "checksum": "c852d942d1d1a6be6207c869e0dd5981",
     "grade": false,
     "grade_id": "cell-9408cb06da347252",
     "locked": false,
     "schema_version": 3,
     "solution": true,
     "task": false
    }
   },
   "outputs": [],
   "source": [
    "from os import listdir, path\n",
    "\n",
    "def read_brown_corpus() -> list[str]:\n",
    "    \"\"\"Read the Brown corpus documents from disk and return them as list.\n",
    "    \n",
    "    Note: A document in the Brown corpus contains all tokens as white-space\n",
    "    separated tokens. Each token also not only contains the token itself,\n",
    "    but also its word class. The two are separated by a slash (\"/\"), so\n",
    "    an example token might look like this: \"jury/nn\", where \"nn\" is the word\n",
    "    class. This function removes the word class. A document is then a string\n",
    "    containing only the tokens, whitespace separated. Keep in mind that some\n",
    "    token-combinations might itself contain a slash and thus contain two\n",
    "    slashes in total, e.g. \"and/or/cc\" should result in the token \"and/or\"\n",
    "    and the word class \"cc\".\n",
    "    \"\"\"\n",
    "    dir_path = \"brown-corpus\"\n",
    "    documents = list()\n",
    "    \n",
    "    # get all filenames from the given directory \n",
    "    filenames = [f for f in listdir(dir_path) if path.isfile(path.join(dir_path,f))]\n",
    "    \n",
    "    #open the all files in the directory and extract the text (remove the annotations)\n",
    "    for f in filenames:\n",
    "        with open(path.join(dir_path,f), \"r\") as content:\n",
    "            unprocessed_tokens = content.read().split(\" \")\n",
    "            processed_tokens = list()\n",
    "\n",
    "            for token in unprocessed_tokens:\n",
    "                # TODO problems at the end of a paragraph: after \"./.\" no whitespace occurs,\n",
    "                # so the next token gets \"sucked into\" this token\n",
    "                \n",
    "                if token.rfind(\"/\") != -1:\n",
    "                    processed_tokens.append(token[:token.rfind(\"/\")]) \n",
    "                else:\n",
    "                    processed_tokens.append(token)\n",
    "                    \n",
    "            #add the cleaned file to the cleaned documents \n",
    "            documents.append(\" \".join(processed_tokens))\n",
    "    \n",
    "    \n",
    "    return documents\n"
   ]
  },
  {
   "cell_type": "code",
   "execution_count": null,
   "id": "97169e6d",
   "metadata": {
    "deletable": false,
    "editable": false,
    "nbgrader": {
     "cell_type": "code",
     "checksum": "e741c535755fac87ff05598505ee12b8",
     "grade": false,
     "grade_id": "cell-393cccecdd21b7f2",
     "locked": true,
     "schema_version": 3,
     "solution": false,
     "task": false
    }
   },
   "outputs": [],
   "source": [
    "# Display the first characters of the first document\n",
    "print(read_brown_corpus()[0][:20])"
   ]
  },
  {
   "cell_type": "code",
   "execution_count": null,
   "id": "7e16aa4e",
   "metadata": {
    "deletable": false,
    "nbgrader": {
     "cell_type": "code",
     "checksum": "99a6406bcde086ccda234b85a70f1950",
     "grade": false,
     "grade_id": "cell-8f0d9710a955dee8",
     "locked": false,
     "schema_version": 3,
     "solution": true,
     "task": false
    }
   },
   "outputs": [],
   "source": [
    "def alphanum_char_freqs(documents: list[str]) -> dict[str,int]:\n",
    "    \"\"\"Count the frequencies of all alphanumeric characters in the given corpus.\n",
    "    \n",
    "    Return the frequencies as dictionary.\n",
    "    \"\"\"\n",
    "    char_freqs = dict()\n",
    "    for document in documents:\n",
    "        #lower all characters, because the counting should be case-insensitive\n",
    "        document = document.lower()\n",
    "\n",
    "        for c in document:\n",
    "            if c.isnumeric() or c.isalpha():\n",
    "                #increase the count of the respective character\n",
    "                char_freqs[c] = char_freqs.get(c,0)+1\n",
    "                \n",
    "    return char_freqs"
   ]
  },
  {
   "cell_type": "code",
   "execution_count": 4,
   "id": "a849c40c",
   "metadata": {
    "deletable": false,
    "editable": false,
    "nbgrader": {
     "cell_type": "code",
     "checksum": "bce9c7091122033e1a99c8afb85646af",
     "grade": false,
     "grade_id": "cell-96d71d269abbcf1c",
     "locked": true,
     "schema_version": 3,
     "solution": false,
     "task": false
    }
   },
   "outputs": [
    {
     "data": {
      "text/plain": [
       "382803"
      ]
     },
     "execution_count": 4,
     "metadata": {},
     "output_type": "execute_result"
    }
   ],
   "source": [
    "# Display the frequency of a character\n",
    "alphanum_char_freqs(read_brown_corpus())[\"a\"]"
   ]
  },
  {
   "cell_type": "code",
   "execution_count": 5,
   "id": "0edaf152",
   "metadata": {
    "deletable": false,
    "nbgrader": {
     "cell_type": "code",
     "checksum": "d9611c44b37edbdc3e2875782da8f296",
     "grade": false,
     "grade_id": "cell-957f615b4d8e522a",
     "locked": false,
     "schema_version": 3,
     "solution": true,
     "task": false
    }
   },
   "outputs": [],
   "source": [
    "import matplotlib.pyplot as plt\n",
    "\n",
    "def plot_alphanum_freqs(alphanum_char_freqs: dict[str,int]) -> None:\n",
    "    \"\"\"Plot frequency statistics as a barplot using matplotlib.\"\"\"\n",
    "    \n",
    "    #sorts the dict elements in decreasing order\n",
    "    sorted_freqs = sorted(alphanum_char_freqs.items(), key=lambda x: x[1], reverse=True)\n",
    "    #creates two lists chars and freqs that hold the ordered keys (chars) and the respective values (freqs)\n",
    "    chars, freqs = zip(*sorted_freqs)\n",
    "    \n",
    "    #create the histogram \n",
    "    plt.title('Frequency of alphanumeric characters in Brown Corpus')\n",
    "    plt.xlabel('characters')\n",
    "    plt.ylabel('frequency')\n",
    "    \n",
    "    #plot the characters on the x-axis and the frequency on the y-axis\n",
    "    plt.bar(chars, freqs)\n",
    "    #plt.yscale('log')\n",
    "    plt.show()"
   ]
  },
  {
   "cell_type": "code",
   "execution_count": 6,
   "id": "a12d4730",
   "metadata": {},
   "outputs": [
    {
     "data": {
      "image/png": "[encoded data removed]",
      "text/plain": [
       "<Figure size 640x480 with 1 Axes>"
      ]
     },
     "metadata": {},
     "output_type": "display_data"
    }
   ],
   "source": [
    "plot_alphanum_freqs(alphanum_char_freqs(read_brown_corpus()))"
   ]
  },
  {
   "cell_type": "code",
   "execution_count": 7,
   "id": "eb63c79b",
   "metadata": {
    "deletable": false,
    "editable": false,
    "nbgrader": {
     "cell_type": "code",
     "checksum": "13ba3785463508a5c75305df811557ab",
     "grade": true,
     "grade_id": "cell-3785cca556de9163",
     "locked": true,
     "points": 5,
     "schema_version": 3,
     "solution": false,
     "task": false
    }
   },
   "outputs": [],
   "source": [
    "########## BEGIN OF AUTOMATED TESTS\n",
    "# ----------------------------------------------------\n",
    "corpus = read_brown_corpus()\n",
    "frequencies = alphanum_char_freqs(corpus)\n",
    "\n",
    "assert isinstance(corpus, list)\n",
    "assert isinstance(frequencies, dict)\n",
    "assert len(corpus) > 300\n",
    "assert len(frequencies.keys()) > 25\n",
    "assert len(frequencies.keys()) < 50\n",
    "\n",
    "########## END OF AUTOMATED TESTS"
   ]
  },
  {
   "cell_type": "markdown",
   "id": "91cf3400",
   "metadata": {
    "deletable": false,
    "editable": false,
    "nbgrader": {
     "cell_type": "markdown",
     "checksum": "5cb3c68f6b0b878e98a464a1880be562",
     "grade": false,
     "grade_id": "cell-58259036b984f90f",
     "locked": true,
     "schema_version": 3,
     "solution": false,
     "task": false
    }
   },
   "source": [
    "### Exercise 8: Programming task 2 (5 points)"
   ]
  },
  {
   "cell_type": "markdown",
   "id": "05925e09",
   "metadata": {
    "deletable": false,
    "editable": false,
    "nbgrader": {
     "cell_type": "markdown",
     "checksum": "cf26a45165fb01f381efb0665ff612dc",
     "grade": false,
     "grade_id": "cell-3b0ca179cf360802",
     "locked": true,
     "schema_version": 3,
     "solution": false,
     "task": false
    }
   },
   "source": [
    "**In compositional semantics, word collocation describes the phenomenon of words appearing together and potentially changing their meaning. For example, while the phrase \"new york\" refers to a city in the U.S., the words \"new york state\" refer to a state in the U.S. Such word combinations are also called bigrams (for two words), trigram (for three words), or more generally $n$-grams (for $n$ words).**\n",
    "\n",
    "**Your task is to find such meaningful $n$-grams automatically. To do so, implement the following:**\n",
    "\n",
    "1. **To get a better idea of $n$-grams you will be generating, implement a function `calculate_number_of_ngrams()` that calculates the number of possible $n$-grams for a given string/data and a predefined $n$, _without actually creating the $n$-grams first_. All restrictions for the $n$-grams described below apply here as well.**\n",
    "2. **A function `create_ngrams()` that takes as parameter a text from which $n$-grams should be created and a parameter $n$ that describes the number of words that should be connected together (i.e. $n=2$ for bigrams, $n=3$ for trigrams, ...). It returns a list of all $n$-grams in the given data. The $n$-gram creation should be case-insensitive (i.e., the $n$-grams \"New York\", \"new york\" and \"New york\" all result in the same $n$-gram). $n$-grams must not contain any punctuation. Only word that are in the word_dict, which we provide to you, should be used to create the $n$-grams. As per convention, each $n$-gram should be represented by a string of lowercased words which are connected by an underscore (`_`), i.e. that \"New York\" becomes \"new_york\".**\n",
    "3. **A function `count_ngrams()` that takes as input a list of $n$-grams and returns a dictionary with the $n$-grams as keys and their number of occurrences in the list as values.**\n",
    "4. **Lastly, write a function `context_for_ngram()` that takes as input a given string/data, an $n$-gram as those created by the `create_ngrams()` function, and a length. The function should find appearances of the $n$-gram in the given string/data and the 80 characters before and after the appearance (the context of the appearance). The $n$-gram and its context should be a single string. The function should return a list of these context sentences of the requested length (if possible).**\n",
    "\n",
    "\n",
    "**As dataset, you will use the \"20 newsgroups\" dataset.**\n",
    "\n",
    "_Note: You must not use any additional libraries to solve this task. You are free to use the functions that are already imported._\n",
    "\n",
    "_Note: In case you plan to use the `split()` function, use it without any parameters, as `split()` $\\neq$ `split(\" \")`."
   ]
  },
  {
   "cell_type": "code",
   "execution_count": 3,
   "id": "2e25d988",
   "metadata": {
    "deletable": false,
    "editable": false,
    "nbgrader": {
     "cell_type": "code",
     "checksum": "6786c814dbfe296a6d024fb3bc718cb4",
     "grade": false,
     "grade_id": "cell-69b7d68420efbd15",
     "locked": true,
     "schema_version": 3,
     "solution": false,
     "task": false
    }
   },
   "outputs": [],
   "source": [
    "from os import listdir, path\n",
    "# Run this cell to load words list\n",
    "def read_word_list() -> list[str]:\n",
    "    \"\"\"Read the words file as a list.\n",
    "    \n",
    "    Note: Every line in the words file contains a single English word.\n",
    "    \"\"\"\n",
    "    with open(\"words\", \"r\") as f:\n",
    "        words = f.readlines()\n",
    "\n",
    "    words = [word[:-1].lower() for word in words]\n",
    "    \n",
    "    return words"
   ]
  },
  {
   "cell_type": "code",
   "execution_count": 4,
   "id": "c0ec8350",
   "metadata": {
    "deletable": false,
    "editable": false,
    "nbgrader": {
     "cell_type": "code",
     "checksum": "be464cb84e60f990f7d67c59e5b4755d",
     "grade": false,
     "grade_id": "cell-7155e1fe0025013d",
     "locked": true,
     "schema_version": 3,
     "solution": false,
     "task": false
    }
   },
   "outputs": [],
   "source": [
    "# Run this cell to load the 20 newsgroups data from file\n",
    "import pickle\n",
    "with open(\"20newsgroups.pkl\", \"rb\") as f:\n",
    "    newsgroups = dict(pickle.load(f))\n",
    "newsgroups = \" \".join(newsgroups[\"data\"])"
   ]
  },
  {
   "cell_type": "code",
   "execution_count": 5,
   "id": "e2e98116",
   "metadata": {
    "deletable": false,
    "editable": false,
    "nbgrader": {
     "cell_type": "code",
     "checksum": "de139e33a285af2ffdebf4c701f25a9c",
     "grade": false,
     "grade_id": "cell-58090dd47d665aa3",
     "locked": true,
     "schema_version": 3,
     "solution": false,
     "task": false
    }
   },
   "outputs": [],
   "source": [
    "word_dict = set(read_word_list())"
   ]
  },
  {
   "cell_type": "code",
   "execution_count": 6,
   "id": "385843fc",
   "metadata": {
    "deletable": false,
    "editable": false,
    "nbgrader": {
     "cell_type": "code",
     "checksum": "43c412967c8a1373a52feec8b02e3662",
     "grade": false,
     "grade_id": "cell-c3083723118b8db3",
     "locked": true,
     "schema_version": 3,
     "solution": false,
     "task": false
    }
   },
   "outputs": [],
   "source": [
    "# You may use this function to remove the punctuation from\n",
    "# the data.\n",
    "\n",
    "import re\n",
    "def remove_punctuation(text: str) -> str:\n",
    "    \"\"\"Removes punctuation in the given string.\n",
    "\n",
    "    Return the input string without punctuation.\n",
    "    \"\"\"\n",
    "    result = re.sub(r\"[^\\w\\s]\", \" \", text)\n",
    "    return re.sub(r\"\\n\", \"\", result)"
   ]
  },
  {
   "cell_type": "code",
   "execution_count": 34,
   "id": "d6979e86",
   "metadata": {
    "deletable": false,
    "nbgrader": {
     "cell_type": "code",
     "checksum": "c38260a450bca3c32cbb9f6139cd5249",
     "grade": false,
     "grade_id": "cell-62571f01c1d3fda2",
     "locked": false,
     "schema_version": 3,
     "solution": true,
     "task": false
    }
   },
   "outputs": [],
   "source": [
    "def calculate_number_of_ngrams(data: str, n: int) -> int:\n",
    "    \"\"\"For the given data, calculate the number of possible ngrams.\n",
    "    \n",
    "    Return the number of ngrams.\n",
    "    \"\"\"\n",
    "    \n",
    "    if n<=0 or len(data) < n:\n",
    "        return 0\n",
    "\n",
    "    data = remove_punctuation(data).lower()\n",
    "    tokenized_data = data.split()\n",
    "    \n",
    "    #create set of lower case words to optimize runtime \n",
    "    words = {word.lower() for word in read_word_list()}\n",
    "\n",
    "    count = 0  \n",
    "    for i in range(n-1,len(tokenized_data)):\n",
    "        # Check if all words from the n_gram are in the provided set\n",
    "        # Note: Other ways of comparison are more readable but way slower\n",
    "        if set(tokenized_data[i:i+n]).issubset(words):\n",
    "            count += 1\n",
    "    \n",
    "    return count \n",
    "\n",
    "#given additional testcases\n",
    "assert calculate_number_of_ngrams(\"this is this and that is that and this is not that\",1) == 12\n",
    "assert calculate_number_of_ngrams(\"this is this and that is that and this is not that\",2) == 11\n",
    "assert calculate_number_of_ngrams(\"this is this and that is that and this is not that\",3) == 10"
   ]
  },
  {
   "cell_type": "code",
   "execution_count": 8,
   "id": "37ef5292",
   "metadata": {
    "deletable": false,
    "editable": false,
    "nbgrader": {
     "cell_type": "code",
     "checksum": "94b9d6667eaeb2d96768b217c34f8147",
     "grade": false,
     "grade_id": "cell-d97ef12b482e88b4",
     "locked": true,
     "schema_version": 3,
     "solution": false,
     "task": false
    }
   },
   "outputs": [
    {
     "data": {
      "text/plain": [
       "2271580"
      ]
     },
     "execution_count": 8,
     "metadata": {},
     "output_type": "execute_result"
    }
   ],
   "source": [
    "# Get the number of possible trigrams\n",
    "calculate_number_of_ngrams(newsgroups, n=3)"
   ]
  },
  {
   "cell_type": "code",
   "execution_count": 40,
   "id": "491670a1",
   "metadata": {
    "deletable": false,
    "nbgrader": {
     "cell_type": "code",
     "checksum": "a3d6844df8a420dd01ece51c5f08b94b",
     "grade": false,
     "grade_id": "cell-e4b5caf405bee6b2",
     "locked": false,
     "schema_version": 3,
     "solution": true,
     "task": false
    }
   },
   "outputs": [],
   "source": [
    "def create_ngrams(data: str, n: int = 2) -> list[str]:\n",
    "    \"\"\"Generate n-grams from the given data.\n",
    "\n",
    "    Return a set of all n-grams.\n",
    "    \"\"\"\n",
    "    if n<=0 or len(data) < n:\n",
    "        return 0\n",
    "    \n",
    "    data = remove_punctuation(data).lower()\n",
    "    tokenized_data = data.split()\n",
    "    \n",
    "    #create set of lower case words to optimize runtime \n",
    "    words = {word.lower() for word in read_word_list()}\n",
    "\n",
    "    n_grams = list()\n",
    "    \n",
    "    for i in range(len(tokenized_data)-n+1):\n",
    "        #create potential n_gram that starts at given position and end after n elements\n",
    "        potential_n_gram = tokenized_data[i:i+n]\n",
    "\n",
    "        # Check if all words from the n_gram are in the provided set\n",
    "        # Note: Other ways of comparison are more readable but way slower\n",
    "        if set(potential_n_gram).issubset(words):\n",
    "            #if all words exist, then add to n_gram list() \n",
    "            n_grams.append(\"_\".join(potential_n_gram))\n",
    "\n",
    "    return n_grams\n",
    "\n",
    "#given additional testcases\n",
    "assert create_ngrams(\"this is this and that is that and this is not that\",1) == ['this', 'is', 'this', 'and', 'that', 'is', 'that', 'and', 'this', 'is', 'not', 'that']\n",
    "assert create_ngrams(\"this is this and that is that and this is not that\",2) == ['this_is', 'is_this', 'this_and', 'and_that', 'that_is', 'is_that', 'that_and', 'and_this', 'this_is', 'is_not', 'not_that']\n",
    "assert create_ngrams(\"this is this and that is that and this is not that\",3) == ['this_is_this', 'is_this_and', 'this_and_that', 'and_that_is', 'that_is_that', 'is_that_and', 'that_and_this', 'and_this_is', 'this_is_not', 'is_not_that']"
   ]
  },
  {
   "cell_type": "code",
   "execution_count": 41,
   "id": "c3a802c1",
   "metadata": {
    "deletable": false,
    "editable": false,
    "nbgrader": {
     "cell_type": "code",
     "checksum": "fcae1deee97a136e693a5f42ba5ef37f",
     "grade": false,
     "grade_id": "cell-165d3e986fe0f06a",
     "locked": true,
     "schema_version": 3,
     "solution": false,
     "task": false
    },
    "scrolled": true
   },
   "outputs": [
    {
     "data": {
      "text/plain": [
       "['over_for_track',\n",
       " 'for_track_riders',\n",
       " 'willow_springs_tomorrow',\n",
       " 'springs_tomorrow_guess',\n",
       " 'tomorrow_guess_i',\n",
       " 'miss_it_help',\n",
       " 'it_help_me',\n",
       " 'help_me_find',\n",
       " 'me_find_my',\n",
       " 'find_my_baby']"
      ]
     },
     "execution_count": 41,
     "metadata": {},
     "output_type": "execute_result"
    }
   ],
   "source": [
    "# Display ten of the created trigrams\n",
    "trigrams = create_ngrams(newsgroups, n=3)\n",
    "trigrams[-10:]"
   ]
  },
  {
   "cell_type": "code",
   "execution_count": 42,
   "id": "8c01c418",
   "metadata": {
    "deletable": false,
    "nbgrader": {
     "cell_type": "code",
     "checksum": "8b80938d2dde39561bf5afd1ac6ec5df",
     "grade": false,
     "grade_id": "cell-351805ec3581a387",
     "locked": false,
     "schema_version": 3,
     "solution": true,
     "task": false
    }
   },
   "outputs": [],
   "source": [
    "# You may use the the Counter class to count n-grams\n",
    "from collections import Counter\n",
    "\n",
    "def count_ngrams(ngrams: list[str]) -> dict[str,int]:\n",
    "    \"\"\"Count the occurrence of all unique n-grams in the given list.\n",
    "    \n",
    "    Return a n-gram bag-of-words.\n",
    "    \"\"\"\n",
    "    return dict(Counter(ngrams))\n",
    "\n",
    "#given additional testcases \n",
    "assert count_ngrams(create_ngrams(\"this is this and that is that and this is not that\",1)) == {'this': 3, 'is': 3, 'that': 3, 'and': 2, 'not': 1}\n",
    "assert count_ngrams(create_ngrams(\"this is this and that is that and this is not that\",2)) == {'this_is': 2, 'is_this': 1, 'this_and': 1, 'and_that': 1, 'that_is': 1, 'is_that': 1, 'that_and': 1, 'and_this': 1, 'is_not': 1, 'not_that': 1}\n",
    "assert count_ngrams(create_ngrams(\"this is this and that is that and this is not that\",3)) == {'this_is_this': 1, 'is_this_and': 1, 'this_and_that': 1, 'and_that_is': 1, 'that_is_that': 1, 'is_that_and': 1, 'that_and_this': 1, 'and_this_is': 1, 'this_is_not': 1, 'is_not_that': 1}"
   ]
  },
  {
   "cell_type": "code",
   "execution_count": 12,
   "id": "9c226078",
   "metadata": {
    "deletable": false,
    "editable": false,
    "nbgrader": {
     "cell_type": "code",
     "checksum": "214a3bd420746645a84620b7352d1e57",
     "grade": false,
     "grade_id": "cell-e0efee16c4d8271a",
     "locked": true,
     "schema_version": 3,
     "solution": false,
     "task": false
    }
   },
   "outputs": [
    {
     "data": {
      "text/plain": [
       "123"
      ]
     },
     "execution_count": 12,
     "metadata": {},
     "output_type": "execute_result"
    }
   ],
   "source": [
    "trigram_counts = count_ngrams(trigrams)\n",
    "trigram_counts[\"i_was_wondering\"]"
   ]
  },
  {
   "cell_type": "code",
   "execution_count": 13,
   "id": "94652561",
   "metadata": {
    "deletable": false,
    "nbgrader": {
     "cell_type": "code",
     "checksum": "f04b260a182d4d0b38dfaaca5413b398",
     "grade": false,
     "grade_id": "cell-0277598cd8398180",
     "locked": false,
     "schema_version": 3,
     "solution": true,
     "task": false
    }
   },
   "outputs": [],
   "source": [
    "def context_for_ngram(data: str, ngram: str, num_examples: int = 5) -> list[str]:\n",
    "    \"\"\"Get the example appearances and context for a given ngram.\n",
    "    \n",
    "    \"\"\"\n",
    "    #TODO \n",
    "    #1. find the ngram occurrences in the text\n",
    "    #2. get the context aka. 80 chars before and 80 chars after \n",
    "    #3. return a list of all contexts\n",
    "    contexts = list()\n",
    "\n",
    "    #ngram in text form\n",
    "    print(ngram.split(\"_\"))\n",
    "    \n",
    "    raise NotImplementedError\n",
    "\n",
    "    return contexts "
   ]
  },
  {
   "cell_type": "code",
   "execution_count": 14,
   "id": "d1fe7059",
   "metadata": {
    "deletable": false,
    "editable": false,
    "nbgrader": {
     "cell_type": "code",
     "checksum": "b177ec822f252652c61cfd709bd87990",
     "grade": false,
     "grade_id": "cell-1bc45b729c72b505",
     "locked": true,
     "schema_version": 3,
     "solution": false,
     "task": false
    }
   },
   "outputs": [
    {
     "name": "stdout",
     "output_type": "stream",
     "text": [
      "['i', 'was', 'wondering']\n"
     ]
    },
    {
     "ename": "NotImplementedError",
     "evalue": "",
     "output_type": "error",
     "traceback": [
      "\u001b[0;31m---------------------------------------------------------------------------\u001b[0m",
      "\u001b[0;31mNotImplementedError\u001b[0m                       Traceback (most recent call last)",
      "Cell \u001b[0;32mIn[14], line 1\u001b[0m\n\u001b[0;32m----> 1\u001b[0m \u001b[43mcontext_for_ngram\u001b[49m\u001b[43m(\u001b[49m\u001b[43mnewsgroups\u001b[49m\u001b[43m,\u001b[49m\u001b[43m \u001b[49m\u001b[38;5;124;43m'\u001b[39;49m\u001b[38;5;124;43mi_was_wondering\u001b[39;49m\u001b[38;5;124;43m'\u001b[39;49m\u001b[43m,\u001b[49m\u001b[43m \u001b[49m\u001b[43mnum_examples\u001b[49m\u001b[43m \u001b[49m\u001b[38;5;241;43m=\u001b[39;49m\u001b[43m \u001b[49m\u001b[38;5;241;43m3\u001b[39;49m\u001b[43m)\u001b[49m\n",
      "Cell \u001b[0;32mIn[13], line 14\u001b[0m, in \u001b[0;36mcontext_for_ngram\u001b[0;34m(data, ngram, num_examples)\u001b[0m\n\u001b[1;32m     11\u001b[0m \u001b[38;5;66;03m#ngram in text form\u001b[39;00m\n\u001b[1;32m     12\u001b[0m \u001b[38;5;28mprint\u001b[39m(ngram\u001b[38;5;241m.\u001b[39msplit(\u001b[38;5;124m\"\u001b[39m\u001b[38;5;124m_\u001b[39m\u001b[38;5;124m\"\u001b[39m))\n\u001b[0;32m---> 14\u001b[0m \u001b[38;5;28;01mraise\u001b[39;00m \u001b[38;5;167;01mNotImplementedError\u001b[39;00m\n\u001b[1;32m     16\u001b[0m \u001b[38;5;28;01mreturn\u001b[39;00m contexts\n",
      "\u001b[0;31mNotImplementedError\u001b[0m: "
     ]
    }
   ],
   "source": [
    "context_for_ngram(newsgroups, 'i_was_wondering', num_examples = 3)"
   ]
  },
  {
   "cell_type": "code",
   "execution_count": 42,
   "id": "56f9fd36",
   "metadata": {
    "deletable": false,
    "editable": false,
    "nbgrader": {
     "cell_type": "code",
     "checksum": "6dc7cdff07226c69bca8b32ebcf10197",
     "grade": true,
     "grade_id": "cell-05874580630de69d",
     "locked": true,
     "points": 5,
     "schema_version": 3,
     "solution": false,
     "task": false
    }
   },
   "outputs": [
    {
     "ename": "AssertionError",
     "evalue": "",
     "output_type": "error",
     "traceback": [
      "\u001b[0;31m---------------------------------------------------------------------------\u001b[0m",
      "\u001b[0;31mAssertionError\u001b[0m                            Traceback (most recent call last)",
      "Cell \u001b[0;32mIn[42], line 18\u001b[0m\n\u001b[1;32m     15\u001b[0m \u001b[38;5;28;01massert\u001b[39;00m (\u001b[38;5;28mlen\u001b[39m(ngram_counts) \u001b[38;5;241m>\u001b[39m \u001b[38;5;241m1000000\u001b[39m \u001b[38;5;129;01mand\u001b[39;00m\n\u001b[1;32m     16\u001b[0m         \u001b[38;5;28mlen\u001b[39m(ngram_counts) \u001b[38;5;241m<\u001b[39m \u001b[38;5;241m2000000\u001b[39m)\n\u001b[1;32m     17\u001b[0m \u001b[38;5;28;01massert\u001b[39;00m \u001b[38;5;28misinstance\u001b[39m(trigram_context, \u001b[38;5;28mlist\u001b[39m)\n\u001b[0;32m---> 18\u001b[0m \u001b[38;5;28;01massert\u001b[39;00m (\u001b[38;5;28mlen\u001b[39m(trigram_context) \u001b[38;5;241m==\u001b[39m \u001b[38;5;241m5\u001b[39m)\n\u001b[1;32m     20\u001b[0m \u001b[38;5;66;03m########## END OF AUTOMATED TESTS\u001b[39;00m\n",
      "\u001b[0;31mAssertionError\u001b[0m: "
     ]
    }
   ],
   "source": [
    "########## BEGIN OF AUTOMATED TESTS\n",
    "# ----------------------------------------------------\n",
    "\n",
    "n_ngrams = calculate_number_of_ngrams(newsgroups, n=3)\n",
    "trigrams = create_ngrams(newsgroups, n=3)\n",
    "ngram_counts = count_ngrams(trigrams)\n",
    "trigram_context = context_for_ngram(newsgroups, 'i_was_wondering')\n",
    "\n",
    "assert isinstance(n_ngrams, int)\n",
    "assert (n_ngrams > 2000000 and\n",
    "        n_ngrams < 4000000)\n",
    "assert isinstance(trigrams, list)\n",
    "assert (len(trigrams) == n_ngrams)\n",
    "assert isinstance(ngram_counts, dict)\n",
    "assert (len(ngram_counts) > 1000000 and\n",
    "        len(ngram_counts) < 2000000)\n",
    "assert isinstance(trigram_context, list)\n",
    "assert (len(trigram_context) == 5)\n",
    "\n",
    "########## END OF AUTOMATED TESTS"
   ]
  },
  {
   "cell_type": "code",
   "execution_count": null,
   "id": "779ba66b",
   "metadata": {},
   "outputs": [],
   "source": []
  }
 ],
 "metadata": {
  "kernelspec": {
   "display_name": "INLP 2024",
   "language": "python",
   "name": "inlp_2024"
  },
  "language_info": {
   "codemirror_mode": {
    "name": "ipython",
    "version": 3
   },
   "file_extension": ".py",
   "mimetype": "text/x-python",
   "name": "python",
   "nbconvert_exporter": "python",
   "pygments_lexer": "ipython3",
   "version": "3.10.8"
  }
 },
 "nbformat": 4,
 "nbformat_minor": 5
}
